{
  "nbformat": 4,
  "nbformat_minor": 0,
  "metadata": {
    "colab": {
      "provenance": []
    },
    "kernelspec": {
      "name": "python3",
      "display_name": "Python 3"
    },
    "language_info": {
      "name": "python"
    }
  },
  "cells": [
    {
      "cell_type": "markdown",
      "source": [
        "#### This Notebook contains the code used to prepare the data for analysis. It starts with the merged raw merged crime data and covariates data and performs the necessary cleaning and transformation for analysis"
      ],
      "metadata": {
        "id": "dvkeNAy0JfYv"
      }
    },
    {
      "cell_type": "code",
      "execution_count": 1,
      "metadata": {
        "id": "r78aa8P88CHm"
      },
      "outputs": [],
      "source": [
        "import numpy as np\n",
        "import pandas as pd\n",
        "import scipy as sp\n",
        "import math"
      ]
    },
    {
      "cell_type": "code",
      "source": [
        "from google.colab import drive\n",
        "drive.mount('/content/drive')\n",
        "os.chdir('/content/drive/MyDrive/STAT 27420')"
      ],
      "metadata": {
        "colab": {
          "base_uri": "https://localhost:8080/"
        },
        "id": "dteAROoz8GES",
        "outputId": "1a3c80d8-1c54-4195-d1ec-519c878c980c"
      },
      "execution_count": 3,
      "outputs": [
        {
          "output_type": "stream",
          "name": "stdout",
          "text": [
            "Mounted at /content/drive\n"
          ]
        }
      ]
    },
    {
      "cell_type": "code",
      "source": [
        "# Importing the merged crime and covariates data\n",
        "did_data = pd.read_csv(\"offenses_merged.csv\")"
      ],
      "metadata": {
        "id": "jept6vJsIq49"
      },
      "execution_count": null,
      "outputs": []
    },
    {
      "cell_type": "code",
      "source": [
        "# Following Donohue and Levitt, constructs violent crime and property crime\n",
        "# variables from the smaller categories of crime\n",
        "violent_crime = [\n",
        "    'actual_murder','actual_manslaughter','actual_rape_total','actual_robbery_total','actual_assault_total'\n",
        "]\n",
        "property_crime = [\n",
        "    'actual_burg_total','actual_theft_total','actual_mtr_veh_theft_total',\n",
        "]"
      ],
      "metadata": {
        "id": "hzLX5R5wIvSr"
      },
      "execution_count": null,
      "outputs": []
    },
    {
      "cell_type": "code",
      "source": [
        "did_data['violent_crime'] = did_data[violent_crime].sum(axis=1)\n",
        "did_data['property_crime'] = did_data[property_crime].sum(axis=1)\n"
      ],
      "metadata": {
        "id": "0vwyyv_6IxGz"
      },
      "execution_count": null,
      "outputs": []
    },
    {
      "cell_type": "code",
      "source": [
        "# Subset the raw data so only those relevant to the study remains\n",
        "columns_use = [\n",
        "    'agency_name',\n",
        "    'state',\n",
        "    'state_abb',\n",
        "    'year',\n",
        "    'population',\n",
        "    'violent_crime',\n",
        "    'property_crime',\n",
        "    'employment',\n",
        "    'per capita personal income',\n",
        "    'poverty_rate',\n",
        "    'beer_pc'"
      ],
      "metadata": {
        "id": "jGD9bfcbI0AP"
      },
      "execution_count": null,
      "outputs": []
    },
    {
      "cell_type": "code",
      "source": [
        "# Restricting the sample to the same time window as Donohue and Levitt\n",
        "# Removes any observations with negative population and employment \n",
        "subset = did_data[columns_use]\n",
        "subset = subset[subset[\"year\"]<=2014]\n",
        "subset = subset[subset[\"year\"]>=1970]\n",
        "subset = subset[subset[\"population\"]>=0]\n",
        "subset = subset[subset[\"employment\"]>=0]"
      ],
      "metadata": {
        "id": "kp_y1nfnI188"
      },
      "execution_count": null,
      "outputs": []
    },
    {
      "cell_type": "code",
      "source": [
        "# Construct unique keys for each observation, \n",
        "# as some counties in different states share the same name\n",
        "subset['group'] = subset['state_abb'] + subset['agency_name']\n",
        "subset = subset[(subset['violent_crime']+subset['population'])>0]"
      ],
      "metadata": {
        "id": "npADLRBiI6Z0"
      },
      "execution_count": null,
      "outputs": []
    },
    {
      "cell_type": "code",
      "source": [
        "# only keep agencies with data available for all years in the sample\n",
        "temp = subset[['year','group']].groupby(['group']).count()\n",
        "temp = temp[temp['year'] == 42]\n",
        "filter = list(temp.index)"
      ],
      "metadata": {
        "id": "s4bIs9GqI8-H"
      },
      "execution_count": null,
      "outputs": []
    },
    {
      "cell_type": "code",
      "source": [
        "subset =subset[subset['group'].isin(filter)]"
      ],
      "metadata": {
        "id": "sTT6HAlLI-UE"
      },
      "execution_count": null,
      "outputs": []
    },
    {
      "cell_type": "code",
      "source": [
        "# Create columns for crime and population the year before and after\n",
        "# Used for identifying holes in the data\n",
        "subset['vcrime_after'] = subset['violent_crime'].shift(1)\n",
        "subset['vcrime_before'] = subset['violent_crime'].shift(-1)\n",
        "\n",
        "subset['pcrime_after'] = subset['property_crime'].shift(1)\n",
        "subset['pcrime_before'] = subset['property_crime'].shift(-1)\n",
        "\n",
        "subset['pop_after'] = subset['population'].shift(1)\n",
        "subset['pop_before'] = subset['population'].shift(-1)"
      ],
      "metadata": {
        "id": "YVQsKYO3JB6k"
      },
      "execution_count": null,
      "outputs": []
    },
    {
      "cell_type": "code",
      "source": [
        "# For observations with one year of data missing between two years with reliable data\n",
        "# fill in population or crime with the average of the year before and after\n",
        "holes = (subset['vcrime_after']>30)&(subset['vcrime_before']>30)&(subset['violent_crime']==0)&(subset['year'].isin(range(1975,2013)))\n",
        "subset.loc[holes,'violent_crime'] = list((subset.loc[holes,'vcrime_after']+subset.loc[holes,'vcrime_before'])*0.5)\n",
        "subset.loc[holes,'property_crime'] = list((subset.loc[holes,'pcrime_after']+subset.loc[holes,'pcrime_before'])*0.5)"
      ],
      "metadata": {
        "id": "5tq9m1GdJDno"
      },
      "execution_count": null,
      "outputs": []
    },
    {
      "cell_type": "code",
      "source": [
        "popholes = (subset['pop_after']>1000)&(subset['pop_before']>1000)&(subset['population']==0)&(subset['year'].isin(range(1975,2013)))\n",
        "subset.loc[popholes,'population'] = list((subset.loc[popholes,'pop_after']+subset.loc[popholes,'pop_before'])*0.5)"
      ],
      "metadata": {
        "id": "hdx3otzWJFMp"
      },
      "execution_count": null,
      "outputs": []
    },
    {
      "cell_type": "code",
      "source": [
        "subset['jobpop ratio'] = subset['employment']/subset['population']\n",
        "subset=subset.drop(columns=['employment','state','vcrime_after', 'vcrime_before','pcrime_after','pcrime_before','pop_before','pop_after'])"
      ],
      "metadata": {
        "id": "Ef8cQ1dkJHFD"
      },
      "execution_count": null,
      "outputs": []
    },
    {
      "cell_type": "code",
      "source": [
        "# Creating a copy to perform the transformations on\n",
        "subset_logdiff = subset.copy()"
      ],
      "metadata": {
        "id": "DX2Sxg2KJKvo"
      },
      "execution_count": null,
      "outputs": []
    },
    {
      "cell_type": "code",
      "source": [
        "# Perform the log transformation on relevant data\n",
        "subset_logdiff[['population',\n",
        "        'violent_crime',\n",
        "    'property_crime',\n",
        "    'jobpop ratio',\n",
        "    'per capita personal income',\n",
        "    'poverty_rate',\n",
        "    'beer_pc']]= subset[['population',\n",
        "        'violent_crime',\n",
        "    'property_crime',\n",
        "    'jobpop ratio',\n",
        "    'per capita personal income',\n",
        "    'poverty_rate',\n",
        "    'beer_pc']].apply(np.log)\n"
      ],
      "metadata": {
        "id": "PZCmZOkdJMTe"
      },
      "execution_count": null,
      "outputs": []
    },
    {
      "cell_type": "code",
      "source": [
        "# Set any infinity values to 0\n",
        "# Since we know they arise from natural log of 0\n",
        "subset_logdiff = subset_logdiff.replace([np.inf, -np.inf], 0)"
      ],
      "metadata": {
        "id": "BEREdSrKJOEW"
      },
      "execution_count": null,
      "outputs": []
    },
    {
      "cell_type": "code",
      "source": [
        "# Calculating the different of the natural logs\n",
        "# Data is ordered with later years at the top\n",
        "# Thus I take the neative o\n",
        "subset_logdiff[['population',\n",
        "        'violent_crime',\n",
        "    'property_crime',\n",
        "    'jobpop ratio',\n",
        "    'per capita personal income',\n",
        "    'poverty_rate',\n",
        "    'beer_pc']]= -subset_logdiff[['population',\n",
        "        'violent_crime',\n",
        "    'property_crime',\n",
        "    'jobpop ratio',\n",
        "    'per capita personal income',\n",
        "    'poverty_rate',\n",
        "    'beer_pc']].diff()\n"
      ],
      "metadata": {
        "id": "98eYVSK7JRWh"
      },
      "execution_count": null,
      "outputs": []
    },
    {
      "cell_type": "code",
      "source": [
        "# Remove year = 2014 because that equals crime from another state subtract this state in 2014\n",
        "subset_logdiff = subset_logdiff[subset_logdiff[\"year\"]<2014]\n",
        "subset_logdiff[\"year\"] = subset_logdiff[\"year\"]+1"
      ],
      "metadata": {
        "id": "JW-L4XuiJT2t"
      },
      "execution_count": null,
      "outputs": []
    },
    {
      "cell_type": "code",
      "source": [
        "# Set extreme values for logdiff violent crime, property crime, and population crimen to NaN\n",
        "# Observing the data close tells me that most arise from \n",
        "# holes, i.e. one year of data missing and reported as 0, \n",
        "# in the data that are more than 1 year\n",
        "# Chose not to do average or backfill because it seems unreasonable to such assumptions\n",
        "subset_logdiff.loc[(abs(subset_logdiff['violent_crime'])>3),'violent_crime'] = float('NaN')\n",
        "subset_logdiff.loc[(abs(subset_logdiff['property_crime'])>3),'property_crime'] = float('NaN')\n",
        "subset_logdiff.loc[(abs(subset_logdiff['population'])>5),'population'] = float('NaN')"
      ],
      "metadata": {
        "id": "8fmuBNBhJVhd"
      },
      "execution_count": null,
      "outputs": []
    },
    {
      "cell_type": "code",
      "source": [
        "subset_logdiff.to_csv('logdiff_did.csv')\n",
        "files.download('logdiff_did.csv')"
      ],
      "metadata": {
        "id": "VHoif4gnJZMI"
      },
      "execution_count": null,
      "outputs": []
    },
    {
      "cell_type": "code",
      "source": [
        "subset['early_leg'] = subset['state_abb'].isin(['WA','CA','AK','HI','NY'])"
      ],
      "metadata": {
        "id": "Jknj-ouP8HYK"
      },
      "execution_count": 6,
      "outputs": []
    },
    {
      "cell_type": "markdown",
      "source": [
        "#### Preparing data for Conditional Parallel Trends in R"
      ],
      "metadata": {
        "id": "tARTOqcaJdL4"
      }
    },
    {
      "cell_type": "code",
      "source": [
        "# Defining the treatment time variable\n",
        "subset['lag15'] = (subset['year']>=1985)"
      ],
      "metadata": {
        "id": "dWNjfGjV8Iun"
      },
      "execution_count": 7,
      "outputs": []
    },
    {
      "cell_type": "code",
      "source": [
        "# Once again subseting the data \n",
        "# since we only need certain variables in the pre-treatment\n",
        "subset_clean = subset[[\n",
        "    'agency_name',\n",
        "    'state_abb',\n",
        "    'year',\n",
        "    'population',\n",
        "    'violent_crime',\n",
        "    'property_crime',\n",
        "    'jobpop ratio',\n",
        "    'per capita personal income',\n",
        "    'poverty_rate',\n",
        "    'beer_pc',\n",
        "    'early_leg',\n",
        "    'lag15',\n",
        "    'group']]\n"
      ],
      "metadata": {
        "id": "QoO1nwCY8KQj"
      },
      "execution_count": 23,
      "outputs": []
    },
    {
      "cell_type": "code",
      "source": [
        "# Difference the outcome variables once again\n",
        "subset_clean[['logd_violent_crime', 'logd_property_crime']] = -subset_clean[['violent_crime', 'property_crime']].diff()"
      ],
      "metadata": {
        "id": "bczv2PYn8Ljp"
      },
      "execution_count": 24,
      "outputs": []
    },
    {
      "cell_type": "code",
      "source": [
        "subset_clean = subset_clean[subset_clean['year']<1990]"
      ],
      "metadata": {
        "id": "T10x5rj08Msz"
      },
      "execution_count": 25,
      "outputs": []
    },
    {
      "cell_type": "code",
      "source": [
        "subset_clean = subset_clean.replace([np.inf, -np.inf], 0)\n",
        "subset_clean = subset_clean.replace([np.inf, -np.inf], 0)"
      ],
      "metadata": {
        "id": "hsPOvq6VN5-r"
      },
      "execution_count": null,
      "outputs": []
    },
    {
      "cell_type": "code",
      "source": [
        "subset_clean.to_csv('conditional_parallel_trend.csv')\n",
        "from google.colab import files\n",
        "files.download('conditional_parallel_trend.csv')"
      ],
      "metadata": {
        "colab": {
          "base_uri": "https://localhost:8080/",
          "height": 17
        },
        "id": "Z2Y7L-QGBBTs",
        "outputId": "fe4a27a9-44cc-4bff-f58c-d29bfffa60b3"
      },
      "execution_count": 27,
      "outputs": [
        {
          "output_type": "display_data",
          "data": {
            "text/plain": [
              "<IPython.core.display.Javascript object>"
            ],
            "application/javascript": [
              "\n",
              "    async function download(id, filename, size) {\n",
              "      if (!google.colab.kernel.accessAllowed) {\n",
              "        return;\n",
              "      }\n",
              "      const div = document.createElement('div');\n",
              "      const label = document.createElement('label');\n",
              "      label.textContent = `Downloading \"${filename}\": `;\n",
              "      div.appendChild(label);\n",
              "      const progress = document.createElement('progress');\n",
              "      progress.max = size;\n",
              "      div.appendChild(progress);\n",
              "      document.body.appendChild(div);\n",
              "\n",
              "      const buffers = [];\n",
              "      let downloaded = 0;\n",
              "\n",
              "      const channel = await google.colab.kernel.comms.open(id);\n",
              "      // Send a message to notify the kernel that we're ready.\n",
              "      channel.send({})\n",
              "\n",
              "      for await (const message of channel.messages) {\n",
              "        // Send a message to notify the kernel that we're ready.\n",
              "        channel.send({})\n",
              "        if (message.buffers) {\n",
              "          for (const buffer of message.buffers) {\n",
              "            buffers.push(buffer);\n",
              "            downloaded += buffer.byteLength;\n",
              "            progress.value = downloaded;\n",
              "          }\n",
              "        }\n",
              "      }\n",
              "      const blob = new Blob(buffers, {type: 'application/binary'});\n",
              "      const a = document.createElement('a');\n",
              "      a.href = window.URL.createObjectURL(blob);\n",
              "      a.download = filename;\n",
              "      div.appendChild(a);\n",
              "      a.click();\n",
              "      div.remove();\n",
              "    }\n",
              "  "
            ]
          },
          "metadata": {}
        },
        {
          "output_type": "display_data",
          "data": {
            "text/plain": [
              "<IPython.core.display.Javascript object>"
            ],
            "application/javascript": [
              "download(\"download_4efe2d05-c5b2-46e2-9369-caeea612db47\", \"conditional_parallel_trend.csv\", 25581292)"
            ]
          },
          "metadata": {}
        }
      ]
    }
  ]
}