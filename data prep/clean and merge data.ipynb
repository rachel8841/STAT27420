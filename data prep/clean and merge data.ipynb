{
 "cells": [
  {
   "cell_type": "code",
   "execution_count": 4,
   "metadata": {},
   "outputs": [],
   "source": [
    "import pandas as pd\n",
    "import numpy as np"
   ]
  },
  {
   "cell_type": "markdown",
   "metadata": {},
   "source": [
    "## Prep personal income data"
   ]
  },
  {
   "cell_type": "code",
   "execution_count": 6,
   "metadata": {
    "scrolled": true
   },
   "outputs": [],
   "source": [
    "# data from Bureau of Economic Analysis\n",
    "\n",
    "personal_income = pd.read_csv(\"CAINC1__ALL_AREAS_1969_2021.csv\", encoding = 'unicode_escape', engine ='python')"
   ]
  },
  {
   "cell_type": "code",
   "execution_count": 7,
   "metadata": {},
   "outputs": [],
   "source": [
    "personal_income = personal_income[personal_income['Description']=='Per capita personal income (dollars) 2/'].drop(\n",
    "    ['Region','TableName','LineCode','IndustryClassification','Unit'],axis=1\n",
    ")"
   ]
  },
  {
   "cell_type": "code",
   "execution_count": 8,
   "metadata": {
    "scrolled": true
   },
   "outputs": [],
   "source": [
    "personal_income = pd.melt(\n",
    "    personal_income,id_vars=['GeoFIPS','GeoName','Description'],var_name='Year',value_name='Value'\n",
    ")\n"
   ]
  },
  {
   "cell_type": "code",
   "execution_count": 9,
   "metadata": {
    "scrolled": true
   },
   "outputs": [],
   "source": [
    "personal_income = personal_income.drop('Description',axis=1)"
   ]
  },
  {
   "cell_type": "code",
   "execution_count": 10,
   "metadata": {},
   "outputs": [],
   "source": [
    "personal_income['Value'] = personal_income['Value'].replace('(NA)',0).astype(float)"
   ]
  },
  {
   "cell_type": "code",
   "execution_count": 11,
   "metadata": {},
   "outputs": [],
   "source": [
    "personal_income.rename(\n",
    "    columns={'Value':'per capita personal income','Year':'year','GeoFIPS':'fips_state_county_code'},\n",
    "    inplace=True\n",
    ")"
   ]
  },
  {
   "cell_type": "code",
   "execution_count": 12,
   "metadata": {
    "scrolled": true
   },
   "outputs": [],
   "source": [
    "personal_income['year'] = personal_income['year'].astype(int)"
   ]
  },
  {
   "cell_type": "code",
   "execution_count": 13,
   "metadata": {
    "scrolled": true
   },
   "outputs": [],
   "source": [
    "# clean up FIPS state county code so we can merge personal income onto the crime data\n",
    "\n",
    "personal_income['fips_state_county_code'] = \\\n",
    "personal_income['fips_state_county_code'].apply(lambda s:s.replace('\"', \"\")).apply(lambda s: s.replace(' ',''))"
   ]
  },
  {
   "cell_type": "code",
   "execution_count": 14,
   "metadata": {},
   "outputs": [],
   "source": [
    "personal_income = personal_income[['fips_state_county_code','year','per capita personal income']]"
   ]
  },
  {
   "cell_type": "code",
   "execution_count": 15,
   "metadata": {},
   "outputs": [
    {
     "data": {
      "text/html": [
       "<div>\n",
       "<style scoped>\n",
       "    .dataframe tbody tr th:only-of-type {\n",
       "        vertical-align: middle;\n",
       "    }\n",
       "\n",
       "    .dataframe tbody tr th {\n",
       "        vertical-align: top;\n",
       "    }\n",
       "\n",
       "    .dataframe thead th {\n",
       "        text-align: right;\n",
       "    }\n",
       "</style>\n",
       "<table border=\"1\" class=\"dataframe\">\n",
       "  <thead>\n",
       "    <tr style=\"text-align: right;\">\n",
       "      <th></th>\n",
       "      <th>fips_state_county_code</th>\n",
       "      <th>year</th>\n",
       "      <th>per capita personal income</th>\n",
       "    </tr>\n",
       "  </thead>\n",
       "  <tbody>\n",
       "    <tr>\n",
       "      <th>0</th>\n",
       "      <td>00000</td>\n",
       "      <td>1969</td>\n",
       "      <td>3931.0</td>\n",
       "    </tr>\n",
       "    <tr>\n",
       "      <th>1</th>\n",
       "      <td>01000</td>\n",
       "      <td>1969</td>\n",
       "      <td>2831.0</td>\n",
       "    </tr>\n",
       "    <tr>\n",
       "      <th>2</th>\n",
       "      <td>01001</td>\n",
       "      <td>1969</td>\n",
       "      <td>2780.0</td>\n",
       "    </tr>\n",
       "    <tr>\n",
       "      <th>3</th>\n",
       "      <td>01003</td>\n",
       "      <td>1969</td>\n",
       "      <td>2760.0</td>\n",
       "    </tr>\n",
       "    <tr>\n",
       "      <th>4</th>\n",
       "      <td>01005</td>\n",
       "      <td>1969</td>\n",
       "      <td>2147.0</td>\n",
       "    </tr>\n",
       "    <tr>\n",
       "      <th>...</th>\n",
       "      <td>...</td>\n",
       "      <td>...</td>\n",
       "      <td>...</td>\n",
       "    </tr>\n",
       "    <tr>\n",
       "      <th>169595</th>\n",
       "      <td>94000</td>\n",
       "      <td>2021</td>\n",
       "      <td>60215.0</td>\n",
       "    </tr>\n",
       "    <tr>\n",
       "      <th>169596</th>\n",
       "      <td>95000</td>\n",
       "      <td>2021</td>\n",
       "      <td>57051.0</td>\n",
       "    </tr>\n",
       "    <tr>\n",
       "      <th>169597</th>\n",
       "      <td>96000</td>\n",
       "      <td>2021</td>\n",
       "      <td>58094.0</td>\n",
       "    </tr>\n",
       "    <tr>\n",
       "      <th>169598</th>\n",
       "      <td>97000</td>\n",
       "      <td>2021</td>\n",
       "      <td>62879.0</td>\n",
       "    </tr>\n",
       "    <tr>\n",
       "      <th>169599</th>\n",
       "      <td>98000</td>\n",
       "      <td>2021</td>\n",
       "      <td>73646.0</td>\n",
       "    </tr>\n",
       "  </tbody>\n",
       "</table>\n",
       "<p>169600 rows × 3 columns</p>\n",
       "</div>"
      ],
      "text/plain": [
       "       fips_state_county_code  year  per capita personal income\n",
       "0                       00000  1969                      3931.0\n",
       "1                       01000  1969                      2831.0\n",
       "2                       01001  1969                      2780.0\n",
       "3                       01003  1969                      2760.0\n",
       "4                       01005  1969                      2147.0\n",
       "...                       ...   ...                         ...\n",
       "169595                  94000  2021                     60215.0\n",
       "169596                  95000  2021                     57051.0\n",
       "169597                  96000  2021                     58094.0\n",
       "169598                  97000  2021                     62879.0\n",
       "169599                  98000  2021                     73646.0\n",
       "\n",
       "[169600 rows x 3 columns]"
      ]
     },
     "execution_count": 15,
     "metadata": {},
     "output_type": "execute_result"
    }
   ],
   "source": [
    "personal_income"
   ]
  },
  {
   "cell_type": "markdown",
   "metadata": {},
   "source": [
    "## Prep employment data"
   ]
  },
  {
   "cell_type": "code",
   "execution_count": 173,
   "metadata": {
    "scrolled": true
   },
   "outputs": [],
   "source": [
    "# employment data from Bureau of Labor Statistics\n",
    "\n",
    "employment = pd.read_csv('Employment.csv',dtype={'fips': object})"
   ]
  },
  {
   "cell_type": "code",
   "execution_count": 174,
   "metadata": {},
   "outputs": [],
   "source": [
    "employment['employment'] = employment['employment'].replace('(NA)',0).astype(float)\n",
    "employment.rename(columns={'fips':'fips_state_county_code'},inplace=True)"
   ]
  },
  {
   "cell_type": "code",
   "execution_count": 175,
   "metadata": {},
   "outputs": [],
   "source": [
    "def process_fips(fips):\n",
    "    if len(fips) == 4:\n",
    "        return '0'+fips\n",
    "    else:\n",
    "        return fips"
   ]
  },
  {
   "cell_type": "code",
   "execution_count": 176,
   "metadata": {},
   "outputs": [],
   "source": [
    "# clean up FIPS code\n",
    "\n",
    "employment['fips_state_county_code'] = employment['fips_state_county_code'].apply(lambda x: process_fips(x))"
   ]
  },
  {
   "cell_type": "code",
   "execution_count": 177,
   "metadata": {},
   "outputs": [],
   "source": [
    "employment = employment[['fips_state_county_code','year','employment']]"
   ]
  },
  {
   "cell_type": "code",
   "execution_count": 178,
   "metadata": {},
   "outputs": [
    {
     "data": {
      "text/html": [
       "<div>\n",
       "<style scoped>\n",
       "    .dataframe tbody tr th:only-of-type {\n",
       "        vertical-align: middle;\n",
       "    }\n",
       "\n",
       "    .dataframe tbody tr th {\n",
       "        vertical-align: top;\n",
       "    }\n",
       "\n",
       "    .dataframe thead th {\n",
       "        text-align: right;\n",
       "    }\n",
       "</style>\n",
       "<table border=\"1\" class=\"dataframe\">\n",
       "  <thead>\n",
       "    <tr style=\"text-align: right;\">\n",
       "      <th></th>\n",
       "      <th>fips_state_county_code</th>\n",
       "      <th>year</th>\n",
       "      <th>employment</th>\n",
       "    </tr>\n",
       "  </thead>\n",
       "  <tbody>\n",
       "    <tr>\n",
       "      <th>0</th>\n",
       "      <td>01001</td>\n",
       "      <td>1973</td>\n",
       "      <td>8617.0</td>\n",
       "    </tr>\n",
       "    <tr>\n",
       "      <th>1</th>\n",
       "      <td>01003</td>\n",
       "      <td>1973</td>\n",
       "      <td>23015.0</td>\n",
       "    </tr>\n",
       "    <tr>\n",
       "      <th>2</th>\n",
       "      <td>01005</td>\n",
       "      <td>1973</td>\n",
       "      <td>9961.0</td>\n",
       "    </tr>\n",
       "    <tr>\n",
       "      <th>3</th>\n",
       "      <td>01007</td>\n",
       "      <td>1973</td>\n",
       "      <td>3955.0</td>\n",
       "    </tr>\n",
       "    <tr>\n",
       "      <th>4</th>\n",
       "      <td>01009</td>\n",
       "      <td>1973</td>\n",
       "      <td>8512.0</td>\n",
       "    </tr>\n",
       "    <tr>\n",
       "      <th>...</th>\n",
       "      <td>...</td>\n",
       "      <td>...</td>\n",
       "      <td>...</td>\n",
       "    </tr>\n",
       "    <tr>\n",
       "      <th>153855</th>\n",
       "      <td>56037</td>\n",
       "      <td>2021</td>\n",
       "      <td>25444.0</td>\n",
       "    </tr>\n",
       "    <tr>\n",
       "      <th>153856</th>\n",
       "      <td>56039</td>\n",
       "      <td>2021</td>\n",
       "      <td>35628.0</td>\n",
       "    </tr>\n",
       "    <tr>\n",
       "      <th>153857</th>\n",
       "      <td>56041</td>\n",
       "      <td>2021</td>\n",
       "      <td>11554.0</td>\n",
       "    </tr>\n",
       "    <tr>\n",
       "      <th>153858</th>\n",
       "      <td>56043</td>\n",
       "      <td>2021</td>\n",
       "      <td>5174.0</td>\n",
       "    </tr>\n",
       "    <tr>\n",
       "      <th>153859</th>\n",
       "      <td>56045</td>\n",
       "      <td>2021</td>\n",
       "      <td>3945.0</td>\n",
       "    </tr>\n",
       "  </tbody>\n",
       "</table>\n",
       "<p>153860 rows × 3 columns</p>\n",
       "</div>"
      ],
      "text/plain": [
       "       fips_state_county_code  year  employment\n",
       "0                       01001  1973      8617.0\n",
       "1                       01003  1973     23015.0\n",
       "2                       01005  1973      9961.0\n",
       "3                       01007  1973      3955.0\n",
       "4                       01009  1973      8512.0\n",
       "...                       ...   ...         ...\n",
       "153855                  56037  2021     25444.0\n",
       "153856                  56039  2021     35628.0\n",
       "153857                  56041  2021     11554.0\n",
       "153858                  56043  2021      5174.0\n",
       "153859                  56045  2021      3945.0\n",
       "\n",
       "[153860 rows x 3 columns]"
      ]
     },
     "execution_count": 178,
     "metadata": {},
     "output_type": "execute_result"
    }
   ],
   "source": [
    "employment"
   ]
  },
  {
   "cell_type": "markdown",
   "metadata": {},
   "source": [
    "## Prep Levitt Donohue covariates - state level"
   ]
  },
  {
   "cell_type": "code",
   "execution_count": 168,
   "metadata": {},
   "outputs": [],
   "source": [
    "tables_1 = pd.read_csv('data_for_tables_1_2_3_4.csv')"
   ]
  },
  {
   "cell_type": "code",
   "execution_count": 179,
   "metadata": {},
   "outputs": [],
   "source": [
    "# covariates that we want\n",
    "\n",
    "# police and prison data are logged and lagged by one year\n",
    "\n",
    "cols = [\n",
    "    'year',\n",
    "    'state',\n",
    "    'ab_res_agi_rate',\n",
    "    'ab_occ_cdc_rate',\n",
    "    'poverty_rate',\n",
    "    'popstatecensus',\n",
    "    'beer_pc',\n",
    "    'ln_income_pc',\n",
    "    'unemployment_rate',\n",
    "    'ln_lag_police_pc',\n",
    "    'ln_lag_prison_pc',\n",
    "]"
   ]
  },
  {
   "cell_type": "code",
   "execution_count": 180,
   "metadata": {},
   "outputs": [],
   "source": [
    "tables_1 = tables_1[cols]"
   ]
  },
  {
   "cell_type": "code",
   "execution_count": 183,
   "metadata": {},
   "outputs": [
    {
     "name": "stderr",
     "output_type": "stream",
     "text": [
      "<ipython-input-183-9314ca394099>:1: SettingWithCopyWarning: \n",
      "A value is trying to be set on a copy of a slice from a DataFrame.\n",
      "Try using .loc[row_indexer,col_indexer] = value instead\n",
      "\n",
      "See the caveats in the documentation: https://pandas.pydata.org/pandas-docs/stable/user_guide/indexing.html#returning-a-view-versus-a-copy\n",
      "  tables_1['state'] = tables_1['state'].apply(lambda x: x.lower())\n"
     ]
    }
   ],
   "source": [
    "tables_1['state'] = tables_1['state'].apply(lambda x: x.lower())"
   ]
  },
  {
   "cell_type": "markdown",
   "metadata": {},
   "source": [
    "## Prep crime data"
   ]
  },
  {
   "cell_type": "code",
   "execution_count": 245,
   "metadata": {},
   "outputs": [
    {
     "name": "stderr",
     "output_type": "stream",
     "text": [
      "/Users/rachelli/opt/anaconda3/lib/python3.8/site-packages/IPython/core/interactiveshell.py:3071: DtypeWarning: Columns (21,22,41) have mixed types.Specify dtype option on import or set low_memory=False.\n",
      "  has_raised = await self.run_ast_nodes(code_ast.body, cell_name,\n"
     ]
    }
   ],
   "source": [
    "data = pd.read_csv(\"offenses_known_yearly_1960_2020.csv\",dtype={'fips_state_county_code': object})"
   ]
  },
  {
   "cell_type": "code",
   "execution_count": 246,
   "metadata": {},
   "outputs": [],
   "source": [
    "data =  data[data['state'].notna()]"
   ]
  },
  {
   "cell_type": "markdown",
   "metadata": {},
   "source": [
    "## Merge personal income data onto crime data"
   ]
  },
  {
   "cell_type": "code",
   "execution_count": 247,
   "metadata": {},
   "outputs": [],
   "source": [
    "data = data.merge(personal_income,how='left',on=['fips_state_county_code','year'])"
   ]
  },
  {
   "cell_type": "markdown",
   "metadata": {},
   "source": [
    "## Merge employment data onto crime data"
   ]
  },
  {
   "cell_type": "code",
   "execution_count": 248,
   "metadata": {},
   "outputs": [],
   "source": [
    "data = data.merge(employment,how='left',on=['fips_state_county_code','year'])"
   ]
  },
  {
   "cell_type": "markdown",
   "metadata": {},
   "source": [
    "## Merge covariates onto crime data"
   ]
  },
  {
   "cell_type": "code",
   "execution_count": 249,
   "metadata": {},
   "outputs": [],
   "source": [
    "data = data.merge(tables_1,how='left',on=['state','year'])"
   ]
  },
  {
   "cell_type": "code",
   "execution_count": 324,
   "metadata": {},
   "outputs": [],
   "source": [
    "data.to_csv(\"offenses_merged.csv\")"
   ]
  }
 ],
 "metadata": {
  "kernelspec": {
   "display_name": "Python 3 (ipykernel)",
   "language": "python",
   "name": "python3"
  },
  "language_info": {
   "codemirror_mode": {
    "name": "ipython",
    "version": 3
   },
   "file_extension": ".py",
   "mimetype": "text/x-python",
   "name": "python",
   "nbconvert_exporter": "python",
   "pygments_lexer": "ipython3",
   "version": "3.10.8"
  }
 },
 "nbformat": 4,
 "nbformat_minor": 4
}
